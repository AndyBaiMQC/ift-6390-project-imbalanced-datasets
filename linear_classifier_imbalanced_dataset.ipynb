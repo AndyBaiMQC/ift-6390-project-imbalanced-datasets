{
 "cells": [
  {
   "cell_type": "markdown",
   "metadata": {},
   "source": [
    "## IFT6390 Final Project: Binary Classification on Imbalanced Dataset\n",
    "\n",
    "This notebook demostrates the application of three different supervised learning algorithms on imbalanced data classification problem:\n",
    "\n",
    "- Support Vector Machines (with different kinds of kernels)\n",
    "- Random Forest Classifier\n",
    "- Multilayer Perceptron\n",
    "\n",
    "We will use `sklearn` API, run these algorithms with different hyperparameters setting, evaluate model performance and answer the required research questions.\n",
    "\n",
    "### 1. Import Required Packages"
   ]
  },
  {
   "cell_type": "code",
   "execution_count": 2,
   "metadata": {},
   "outputs": [],
   "source": [
    "import os\n",
    "import gc\n",
    "import warnings\n",
    "warnings.filterwarnings('ignore')\n",
    "\n",
    "import numpy as np\n",
    "import pandas as pd\n",
    "import matplotlib.pyplot as plt\n",
    "\n",
    "from sklearn.preprocessing import OneHotEncoder, LabelEncoder\n",
    "from sklearn.model_selection import train_test_split, KFold\n",
    "from sklearn.svm import SVC\n",
    "from sklearn.ensemble import RandomForestClassifier\n",
    "from sklearn.neural_network import MLPClassifier\n",
    "from sklearn.metrics import classification_report, accuracy_score, f1_score, recall_score, precision_score, confusion_matrix\n",
    "\n",
    "%matplotlib inline"
   ]
  },
  {
   "cell_type": "markdown",
   "metadata": {},
   "source": [
    "### 2. Load Data"
   ]
  },
  {
   "cell_type": "code",
   "execution_count": 3,
   "metadata": {},
   "outputs": [],
   "source": [
    "# load bank data and bank data additional\n",
    "bank_data = pd.read_csv('./mlproject/bank/bank-full.csv', sep=';')\n",
    "bank_data_additional = pd.read_csv('./mlproject/bank/bank-additional-full.csv', sep=';')\n",
    "bank_data_categorical_feats = ['job', 'marital', 'education', 'default', 'housing', 'loan', 'contact',\n",
    "                               'day', 'month', 'campaign', 'poutcome']\n",
    "bank_data_additional_categorical_feats = ['job', 'marital', 'education', 'default', 'housing', 'loan', 'contact',\n",
    "                                          'day_of_week', 'month', 'campaign', 'poutcome']\n",
    "bank_data_target_col = 'y'\n",
    "\n",
    "# load income data (train and test)\n",
    "income_data = pd.read_csv('./mlproject/income/adult.data', header=None)\n",
    "income_data.columns = [\n",
    "    'age', 'workclass', 'fnlwgt', 'education', 'education-num', 'marital-status', 'occupation', 'relationship',\n",
    "    'race', 'sex', 'capital-gain', 'capital-loss', 'hours-per-week', 'native-country', 'income'\n",
    "]\n",
    "income_data_categorical_feats = ['workclass', 'education', 'marital-status', 'occupation',\n",
    "                                 'relationship', 'race', 'sex', 'native-country']\n",
    "income_data_target_col = 'income'\n",
    "\n",
    "income_data_test = pd.read_csv('./mlproject/income/adult.test')\n",
    "income_data_test = income_data_test.reset_index()\n",
    "income_data_test.columns = [\n",
    "    'age', 'workclass', 'fnlwgt', 'education', 'education-num', 'marital-status', 'occupation', 'relationship',\n",
    "    'race', 'sex', 'capital-gain', 'capital-loss', 'hours-per-week', 'native-country', 'income'\n",
    "]\n",
    "\n",
    "income_data_test = income_data_test.replace({' ?': np.nan}).dropna()"
   ]
  },
  {
   "cell_type": "markdown",
   "metadata": {},
   "source": [
    "### 3. Preprocessing\n",
    "\n",
    "All of these three supervised learning algorithms can only take numerical inputs, therefore the categorical features need to be encoded. Here we use one-hot encoding, with `pandas.get_dummies()` function."
   ]
  },
  {
   "cell_type": "code",
   "execution_count": 4,
   "metadata": {},
   "outputs": [],
   "source": [
    "bank_data[bank_data_target_col] = bank_data[bank_data_target_col].map({'no': 0, 'yes': 1})\n",
    "bank_data_additional[bank_data_target_col] = bank_data_additional[bank_data_target_col].map({'no': 0, 'yes': 1})\n",
    "\n",
    "income_data_train_size = income_data.shape[0]\n",
    "income_data[income_data_target_col] = income_data[income_data_target_col].map({' <=50K': 0, ' >50K': 1})\n",
    "income_data_test[income_data_target_col] = income_data_test[income_data_target_col].map({' <=50K.': 0, ' >50K.': 1})\n",
    "income_data = pd.concat([income_data, income_data_test], axis=0)"
   ]
  },
  {
   "cell_type": "code",
   "execution_count": 5,
   "metadata": {},
   "outputs": [],
   "source": [
    "# process bank data and bank data additional\n",
    "bank_data_categorical_onehot = pd.get_dummies(bank_data[bank_data_categorical_feats])\n",
    "bank_data_processed = pd.concat([bank_data, bank_data_categorical_onehot], axis=1)\n",
    "bank_data_processed.drop(labels=bank_data_categorical_feats, axis=1, inplace=True)\n",
    "bank_data_features = bank_data_processed[[c for c in bank_data_processed.columns if c != bank_data_target_col]]\n",
    "bank_data_target = bank_data_processed[bank_data_target_col]\n",
    "\n",
    "bank_data_additional_categorical_onehot = pd.get_dummies(bank_data_additional[bank_data_additional_categorical_feats])\n",
    "bank_data_additional_processed = pd.concat([bank_data_additional, bank_data_additional_categorical_onehot], axis=1)\n",
    "bank_data_additional_processed.drop(labels=bank_data_additional_categorical_feats, axis=1, inplace=True)\n",
    "bank_data_additional_features = bank_data_additional_processed[[c for c in bank_data_additional_processed.columns if c != bank_data_target_col]]\n",
    "bank_data_additional_target = bank_data_additional_processed[bank_data_target_col]\n",
    "\n",
    "# process income data (train and test)\n",
    "income_data_categorical_onehot = pd.get_dummies(income_data[income_data_categorical_feats])\n",
    "income_data_processed = pd.concat([income_data, income_data_categorical_onehot], axis=1)\n",
    "income_data_processed.drop(labels=income_data_categorical_feats, axis=1, inplace=True)\n",
    "income_data_features = income_data_processed[[c for c in income_data_processed.columns if c != income_data_target_col]]\n",
    "income_data_target = income_data_processed[income_data_target_col]\n",
    "\n",
    "income_data_features_train = income_data_features.iloc[:income_data_train_size]\n",
    "income_data_target_train = income_data_target.iloc[:income_data_train_size]\n",
    "income_data_features_test = income_data_features.iloc[income_data_train_size:]\n",
    "income_data_target_test = income_data_target.iloc[income_data_train_size:]"
   ]
  },
  {
   "cell_type": "markdown",
   "metadata": {},
   "source": [
    "### 4. Running Models\n",
    "\n",
    "For each algorithm, we will run multiple times with different hyperparameter settings, and use the 10 fold cross validation results for evaluation. Here in code we just show the run with default setting, we will list the results with different hyperparameters later."
   ]
  },
  {
   "cell_type": "code",
   "execution_count": 6,
   "metadata": {},
   "outputs": [],
   "source": [
    "def run_cv(df_train, y_train, df_test=None, y_test=None, method='rf', params=None, folds=10):\n",
    "    \"\"\" Run k-folds cross validation \"\"\"\n",
    "    kfold = KFold(n_splits=folds, shuffle=True, random_state=2019)\n",
    "    oof_preds = np.zeros(df_train.shape[0])\n",
    "    \n",
    "    if params is None:\n",
    "        params = {}\n",
    "    if not isinstance(params, dict):\n",
    "        raise ValueError('Argument `params` has to be dictionary or None by default')\n",
    "    \n",
    "    for n_fold, (trn_idx, val_idx) in enumerate(kfold.split(df_train, y_train)):\n",
    "        X_train_ = df_train.iloc[trn_idx]\n",
    "        y_train_ = y_train.iloc[trn_idx]\n",
    "        \n",
    "        X_val_ = df_train.iloc[val_idx]\n",
    "        y_val_ = y_train.iloc[val_idx]\n",
    "        \n",
    "        if method == 'svm':\n",
    "            clf = SVC(**params)\n",
    "        elif method == 'rf':\n",
    "            clf = RandomForestClassifier(**params)\n",
    "        elif method== 'mlp':\n",
    "            clf = MLPClassifier(**params)\n",
    "        else:\n",
    "            raise ValueError('Only support method in [`svm`, `rf`, `mlp`]')\n",
    "            \n",
    "        clf.fit(X_train_, y_train_)\n",
    "        oof_preds[val_idx] = clf.predict(X_val_)\n",
    "    \n",
    "    print('-'*20, 'Cross validation performance', '-'*20)\n",
    "    print('Training : Validation = {:.1f} : 1'.format(y_train_.shape[0] / y_val_.shape[0]))\n",
    "    print('Accuracy score = {:.2f} %'.format(100 * accuracy_score(y_train.values, oof_preds)))\n",
    "    if df_test is not None and y_test is not None:\n",
    "        test_preds = clf.predict(df_test.values)\n",
    "        print('-'*20, 'Test performance', '-'*20)\n",
    "        print('Training : Testing = {:.1f} : 1'.format(y_train.shape[0] / y_test.shape[0]))\n",
    "        print('Accuracy score = {:.2f} %'.format(100 * accuracy_score(y_test.values, test_preds)))"
   ]
  },
  {
   "cell_type": "markdown",
   "metadata": {},
   "source": [
    "#### 4.1 Support Vector Machine\n",
    "\n",
    "Running on bank data."
   ]
  },
  {
   "cell_type": "code",
   "execution_count": 26,
   "metadata": {},
   "outputs": [
    {
     "name": "stdout",
     "output_type": "stream",
     "text": [
      "-------------------- Cross validation performance --------------------\n",
      "Training : Validation = 9.0 : 1\n",
      "Accuracy score = 88.29 %\n"
     ]
    }
   ],
   "source": [
    "params = {}\n",
    "run_cv(bank_data_features, bank_data_target, method='svm', params=params)"
   ]
  },
  {
   "cell_type": "code",
   "execution_count": 27,
   "metadata": {},
   "outputs": [
    {
     "name": "stdout",
     "output_type": "stream",
     "text": [
      "-------------------- Cross validation performance --------------------\n",
      "Training : Validation = 9.0 : 1\n",
      "Accuracy score = 89.76 %\n"
     ]
    }
   ],
   "source": [
    "params = {}\n",
    "run_cv(bank_data_additional_features, bank_data_additional_target, method='svm', params=params)"
   ]
  },
  {
   "cell_type": "markdown",
   "metadata": {},
   "source": [
    "Running on income data"
   ]
  },
  {
   "cell_type": "code",
   "execution_count": 28,
   "metadata": {},
   "outputs": [
    {
     "name": "stdout",
     "output_type": "stream",
     "text": [
      "-------------------- Cross validation performance --------------------\n",
      "Training : Validation = 9.0 : 1\n",
      "Accuracy score = 75.63 %\n",
      "-------------------- Test performance --------------------\n",
      "Training : Testing = 2.2 : 1\n",
      "Accuracy score = 75.05 %\n"
     ]
    }
   ],
   "source": [
    "params = {}\n",
    "run_cv(income_data_features_train,\n",
    "       income_data_target_train,\n",
    "       income_data_features_test,\n",
    "       income_data_target_test,\n",
    "       method='svm',\n",
    "       params=params)"
   ]
  },
  {
   "cell_type": "markdown",
   "metadata": {},
   "source": [
    "#### 4.2 Random Forest\n",
    "\n",
    "Running on bank data"
   ]
  },
  {
   "cell_type": "code",
   "execution_count": 19,
   "metadata": {},
   "outputs": [
    {
     "name": "stdout",
     "output_type": "stream",
     "text": [
      "-------------------- Cross validation performance --------------------\n",
      "Training : Validation = 9.0 : 1\n",
      "Accuracy score = 89.98 %\n"
     ]
    }
   ],
   "source": [
    "params = {}\n",
    "run_cv(bank_data_features, bank_data_target, method='rf', params=params)"
   ]
  },
  {
   "cell_type": "code",
   "execution_count": 20,
   "metadata": {},
   "outputs": [
    {
     "name": "stdout",
     "output_type": "stream",
     "text": [
      "-------------------- Cross validation performance --------------------\n",
      "Training : Validation = 9.0 : 1\n",
      "Accuracy score = 90.80 %\n"
     ]
    }
   ],
   "source": [
    "params = {}\n",
    "run_cv(bank_data_additional_features, bank_data_additional_target, method='rf', params=params)"
   ]
  },
  {
   "cell_type": "markdown",
   "metadata": {},
   "source": [
    "Running on income data"
   ]
  },
  {
   "cell_type": "code",
   "execution_count": 21,
   "metadata": {},
   "outputs": [
    {
     "name": "stdout",
     "output_type": "stream",
     "text": [
      "-------------------- Cross validation performance --------------------\n",
      "Training : Validation = 9.0 : 1\n",
      "Accuracy score = 84.75 %\n",
      "-------------------- Test performance --------------------\n",
      "Training : Testing = 2.2: 1\n",
      "Accuracy score = 83.82 %\n"
     ]
    }
   ],
   "source": [
    "params = {}\n",
    "run_cv(income_data_features_train,\n",
    "       income_data_target_train,\n",
    "       income_data_features_test,\n",
    "       income_data_target_test,\n",
    "       method='rf',\n",
    "       params=params)"
   ]
  },
  {
   "cell_type": "markdown",
   "metadata": {},
   "source": [
    "#### 4.3 Multilayer Perceptron\n",
    "\n",
    "Running on bank data."
   ]
  },
  {
   "cell_type": "code",
   "execution_count": 23,
   "metadata": {},
   "outputs": [
    {
     "name": "stdout",
     "output_type": "stream",
     "text": [
      "-------------------- Cross validation performance --------------------\n",
      "Training : Validation = 9.0 : 1\n",
      "Accuracy score = 88.37 %\n"
     ]
    }
   ],
   "source": [
    "params = {}\n",
    "run_cv(bank_data_features, bank_data_target, method='mlp', params=params)"
   ]
  },
  {
   "cell_type": "code",
   "execution_count": 24,
   "metadata": {},
   "outputs": [
    {
     "name": "stdout",
     "output_type": "stream",
     "text": [
      "-------------------- Cross validation performance --------------------\n",
      "Training : Validation = 9.0 : 1\n",
      "Accuracy score = 87.92 %\n"
     ]
    }
   ],
   "source": [
    "params = {}\n",
    "run_cv(bank_data_additional_features, bank_data_additional_target, method='mlp', params=params)"
   ]
  },
  {
   "cell_type": "markdown",
   "metadata": {},
   "source": [
    "Running on income data."
   ]
  },
  {
   "cell_type": "code",
   "execution_count": 25,
   "metadata": {},
   "outputs": [
    {
     "name": "stdout",
     "output_type": "stream",
     "text": [
      "-------------------- Cross validation performance --------------------\n",
      "Training : Validation = 9.0 : 1\n",
      "Accuracy score = 72.50 %\n",
      "-------------------- Test performance --------------------\n",
      "Training : Testing = 2.2 : 1\n",
      "Accuracy score = 79.93 %\n"
     ]
    }
   ],
   "source": [
    "params = {}\n",
    "run_cv(income_data_features_train,\n",
    "       income_data_target_train,\n",
    "       income_data_features_test,\n",
    "       income_data_target_test,\n",
    "       method='mlp',\n",
    "       params=params)"
   ]
  },
  {
   "cell_type": "markdown",
   "metadata": {},
   "source": [
    "### 5. Research Questions and Suggestions\n",
    "\n",
    "- Which algorithm is theoretically more likely to overfit? What happens in practice?\n",
    "\n",
    "Multilayer perceptron is theoretically more likely to overfit. Multilayer perceptron is one type of neural network, and theoretically it is able to approximate any type of functions, therefore it is more likely to fit \"noise\" in the training data. In practice, a neural network will probably get large test error on test data if it overfits on training data.\n",
    "\n",
    "- What prior assumptions are encoded by your chosen algorithms? Are these ’good’ assumptions?\n",
    "\n",
    "SVM: the assumption depends on the kernel. If the kernel function is linear, then it assume the data is linear separable. Also SVM can only take numerical inputs, there is no other assumptions related to the data (like i.i.d. or normality).\n",
    "\n",
    "Random forest: random forest is an ensemble algorithm with decision tree as weak learner, and decision tree is a non-parametric algorithm. Same with SVM, it has to take numerical inputs, there is no requirment for the data distributions.\n",
    "\n",
    "Multilayer perceptron: same with SVM and random forest, there are no statistical assumptions needed for multilayer perceptron. But to achieve good results, neural networks require large amoun\n",
    " \n",
    "\n",
    "- Compare the performance (accuracy, log-likelihood...) of the different algorithms on each\n",
    "dataset. Is one consistently better than others? Why?\n",
    "\n",
    "Here we select top 3 best results for each algorithm. \n",
    "\n",
    "Performance on bank data\n",
    "\n",
    "SVM:\n",
    "\n",
    "```\n",
    "C   kernel  gamma  cv_accuracy\n",
    "10  rbf     0.0001 89.12\n",
    "10  rbf     scale  89.05\n",
    "5   rbf     scale  88.84\n",
    "```\n",
    "\n",
    "Random forest:\n",
    "\n",
    "```\n",
    "n_estimators  criterion  max_depth  min_samples_split  min_samples_leaf cv_accuracy\n",
    "1500          gini       None       2                  1                90.51\n",
    "1000          gini       None       2                  1                90.54\n",
    "500           gini       None       2                  1                90.52\n",
    "```\n",
    "\n",
    "Multilayer perceptron:\n",
    "\n",
    "```\n",
    "structure      batch_size  cv_accuracy\n",
    "100, 100       256         89.87\n",
    "200, 100       256         89.99\n",
    "200, 200       256         90.08\n",
    "```\n",
    "\n",
    "Performance on bank data additional\n",
    "\n",
    "SVM:\n",
    "\n",
    "```\n",
    "C   kernel  gamma  cv_accuracy\n",
    "10  rbf     0.0001 89.95\n",
    "10  rbf     scale  89.84\n",
    "5   rbf     scale  89.71\n",
    "```\n",
    "\n",
    "Random forest:\n",
    "\n",
    "```\n",
    "n_estimators  criterion  max_depth  min_samples_split  min_samples_leaf cv_accuracy \n",
    "1500          gini       None       2                  1                91.26  \n",
    "1000          gini       None       2                  1                91.24\n",
    "500           gini       None       2                  1                91.26\n",
    "```\n",
    "\n",
    "Multilayer perceptron:\n",
    "\n",
    "```\n",
    "structure      batch_size  cv_accuracy\n",
    "100, 100       256         90.24\n",
    "200, 100       256         90.38\n",
    "200, 200       256         91.12       \n",
    "```\n",
    "\n",
    "So we can see that multilayer perceptron and random forest are consistently better than SVM, but we cannot conclude which one is better between multilayer perceptron and random forest. Also, we see better accuracy score on bank data additional, this could be the reason that bank data additional has more and better features, although the samples are different.\n",
    "\n",
    "Performance on income data\n",
    "\n",
    "SVM:\n",
    "\n",
    "```\n",
    "C   kernel  gamma  cv_accuracy test_accuracy\n",
    "10  rbf     scale  76.45       75.88\n",
    "1   rbf     scale  75.63       75.05\n",
    "10  rbf     0.0001 76.78       76.12\n",
    "```\n",
    "\n",
    "Random forest:\n",
    "\n",
    "```\n",
    "n_estimators  criterion  max_depth  min_samples_split  min_samples_leaf cv_accuracy test_accuracy\n",
    "1500          gini       None       2                  1                85.45       84.66\n",
    "1500          gini       None       10                 1                85.48       84.73  \n",
    "1500          gini       None       20                 5                85.49       84.76\n",
    "```\n",
    "\n",
    "\n",
    "Multilayer perceptron:\n",
    "\n",
    "```\n",
    "structure      batch_size  cv_accuracy test_accuracy\n",
    "100, 100       256         72.98       79.54\n",
    "200, 100       256         74.56       79.68\n",
    "200, 200       256         75.52       79.72      \n",
    "```\n",
    "\n",
    "We can get the same conclusion with bank data. We actually tried both 5 folds and 10 folds cross validation experiments, we can find that 10 folds cross validation could produce better accuracy, the reason could be that there are more training data in 10 folds cases.\n",
    "\n",
    "Some visualization about model performance (we pick random forest since it has the best performance)"
   ]
  },
  {
   "cell_type": "code",
   "execution_count": 24,
   "metadata": {},
   "outputs": [
    {
     "data": {
      "image/png": "[encoded data removed]",
      "text/plain": [
       "<Figure size 576x360 with 1 Axes>"
      ]
     },
     "metadata": {
      "needs_background": "light"
     },
     "output_type": "display_data"
    }
   ],
   "source": [
    "# n_estimators = 50, 100, 200, 500, 2000\n",
    "n = 5\n",
    "loc = np.arange(n)\n",
    "acc = [90.35, 90.53, 90.47, 90.52, 90.52]\n",
    "fig = plt.figure(figsize=(8, 5))\n",
    "_ = plt.plot(loc, acc, 'o-')\n",
    "_ = plt.xticks(loc, ['n_esimators=50', 'n_esimators=100', 'n_esimators=200', 'n_esimators=500', 'n_esimators=2000'])\n",
    "_ = plt.title('Cross Validation Accuracy (bank data)')"
   ]
  },
  {
   "cell_type": "code",
   "execution_count": 25,
   "metadata": {},
   "outputs": [
    {
     "data": {
      "image/png": "[encoded data removed]",
      "text/plain": [
       "<Figure size 576x360 with 1 Axes>"
      ]
     },
     "metadata": {
      "needs_background": "light"
     },
     "output_type": "display_data"
    }
   ],
   "source": [
    "# max_depth = 5, 7, 10, 16, unlimited\n",
    "n = 5\n",
    "loc = np.arange(n)\n",
    "acc = [89.35, 89.56, 89.82, 90.09, 89.81]\n",
    "fig = plt.figure(figsize=(8, 5))\n",
    "_ = plt.plot(loc, acc, 'o-')\n",
    "_ = plt.xticks(loc, ['max_depth=5', 'max_depth=7', 'max_depth=10', 'max_depth=16', 'max_depth=unlimited'])\n",
    "_ = plt.title('Cross Validation Accuracy (bank data)')"
   ]
  },
  {
   "cell_type": "code",
   "execution_count": 26,
   "metadata": {},
   "outputs": [
    {
     "data": {
      "image/png": "[encoded data removed]",
      "text/plain": [
       "<Figure size 576x360 with 1 Axes>"
      ]
     },
     "metadata": {
      "needs_background": "light"
     },
     "output_type": "display_data"
    }
   ],
   "source": [
    "# min_samples_split = 2, 5, 10, 20, 50\n",
    "n = 5\n",
    "loc = np.arange(n)\n",
    "acc = [89.97, 89.95, 90.19, 90.44, 90.41]\n",
    "fig = plt.figure(figsize=(8, 5))\n",
    "_ = plt.plot(loc, acc, 'o-')\n",
    "_ = plt.xticks(loc, ['min_samples_split=2', 'min_samples_split=5', 'min_samples_split=10', 'min_samples_split=20', 'min_samples_split=50'])\n",
    "_ = plt.title('Cross Validation Accuracy (bank data)')"
   ]
  },
  {
   "cell_type": "code",
   "execution_count": 27,
   "metadata": {},
   "outputs": [
    {
     "data": {
      "image/png": "[encoded data removed]",
      "text/plain": [
       "<Figure size 576x360 with 1 Axes>"
      ]
     },
     "metadata": {
      "needs_background": "light"
     },
     "output_type": "display_data"
    }
   ],
   "source": [
    "# n_estimators = 10, 50, 100, 500, 2000\n",
    "n = 5\n",
    "loc = np.arange(n)\n",
    "acc = [90.61, 91.13, 91.21, 91.23, 91.26]\n",
    "fig = plt.figure(figsize=(8, 5))\n",
    "_ = plt.plot(loc, acc, 'o-')\n",
    "_ = plt.xticks(loc, ['n_esimators=50', 'n_esimators=100', 'n_esimators=200', 'n_esimators=500', 'n_esimators=2000'])\n",
    "_ = plt.title('Cross Validation Accuracy (bank data additional)')"
   ]
  },
  {
   "cell_type": "code",
   "execution_count": 33,
   "metadata": {},
   "outputs": [
    {
     "data": {
      "image/png": "[encoded data removed]",
      "text/plain": [
       "<Figure size 576x360 with 1 Axes>"
      ]
     },
     "metadata": {
      "needs_background": "light"
     },
     "output_type": "display_data"
    }
   ],
   "source": [
    "# max_depth = 5, 7, 10, 16, unlimited\n",
    "n = 5\n",
    "loc = np.arange(n)\n",
    "acc = [90.11, 90.47, 90.76, 90.96, 90.68]\n",
    "fig = plt.figure(figsize=(8, 5))\n",
    "_ = plt.plot(loc, acc, 'o-')\n",
    "_ = plt.xticks(loc, ['max_depth=5', 'max_depth=7', 'max_depth=10', 'max_depth=16', 'max_depth=unlimited'])\n",
    "_ = plt.title('Cross Validation Accuracy (bank data additional)')"
   ]
  },
  {
   "cell_type": "code",
   "execution_count": 34,
   "metadata": {},
   "outputs": [
    {
     "data": {
      "image/png": "[encoded data removed]",
      "text/plain": [
       "<Figure size 576x360 with 1 Axes>"
      ]
     },
     "metadata": {
      "needs_background": "light"
     },
     "output_type": "display_data"
    }
   ],
   "source": [
    "# min_samples_split = 2, 5, 10, 20, 50\n",
    "n = 5\n",
    "loc = np.arange(n)\n",
    "acc = [90.62, 91.01, 91.16, 91.22, 91.24]\n",
    "fig = plt.figure(figsize=(8, 5))\n",
    "_ = plt.plot(loc, acc, 'o-')\n",
    "_ = plt.xticks(loc, ['min_samples_split=2', 'min_samples_split=5', 'min_samples_split=10', 'min_samples_split=20', 'min_samples_split=50'])\n",
    "_ = plt.title('Cross Validation Accuracy (bank data additional)')"
   ]
  },
  {
   "cell_type": "code",
   "execution_count": 35,
   "metadata": {},
   "outputs": [
    {
     "data": {
      "image/png": "[encoded data removed]",
      "text/plain": [
       "<Figure size 576x360 with 1 Axes>"
      ]
     },
     "metadata": {
      "needs_background": "light"
     },
     "output_type": "display_data"
    }
   ],
   "source": [
    "# n_estimators = 10, 50, 100, 500, 2000\n",
    "n = 5\n",
    "loc = np.arange(n)\n",
    "cv_acc = [84.66, 85.44, 85.44, 85.58, 85.52]\n",
    "test_acc = [83.75, 84.56, 84.70, 84.60, 84.62]\n",
    "fig = plt.figure(figsize=(8, 5))\n",
    "_ = plt.plot(loc, cv_acc, 'o-', loc, test_acc, '+-')\n",
    "_ = plt.xticks(loc, ['n_esimators=50', 'n_esimators=100', 'n_esimators=200', 'n_esimators=500', 'n_esimators=2000'])\n",
    "_ = plt.title('Cross Validation and Test Accuracy (income data)')"
   ]
  },
  {
   "cell_type": "code",
   "execution_count": 36,
   "metadata": {},
   "outputs": [
    {
     "data": {
      "image/png": "[encoded data removed]",
      "text/plain": [
       "<Figure size 576x360 with 1 Axes>"
      ]
     },
     "metadata": {
      "needs_background": "light"
     },
     "output_type": "display_data"
    }
   ],
   "source": [
    "# max_depth = 5, 7, 10, 16, unlimited\n",
    "n = 5\n",
    "loc = np.arange(n)\n",
    "cv_acc = [83.84, 84.41, 85.34, 85.77, 84.82]\n",
    "test_acc = [82.22, 83.92, 85.07, 85.20, 84.28]\n",
    "fig = plt.figure(figsize=(8, 5))\n",
    "_ = plt.plot(loc, cv_acc, 'o-', loc, test_acc, '+-')\n",
    "_ = plt.xticks(loc, ['max_depth=5', 'max_depth=7', 'max_depth=10', 'max_depth=16', 'max_depth=unlimited'])\n",
    "_ = plt.title('Cross Validation Accuracy (income data)')"
   ]
  },
  {
   "cell_type": "code",
   "execution_count": 37,
   "metadata": {},
   "outputs": [
    {
     "data": {
      "image/png": "[encoded data removed]",
      "text/plain": [
       "<Figure size 576x360 with 1 Axes>"
      ]
     },
     "metadata": {
      "needs_background": "light"
     },
     "output_type": "display_data"
    }
   ],
   "source": [
    "# min_samples_split = 2, 5, 10, 20, 50\n",
    "n = 5\n",
    "loc = np.arange(n)\n",
    "cv_acc = [84.86, 85.38, 85.71, 86.02, 86.34]\n",
    "test_acc = [83.90, 84.73, 84.68, 84.96, 85.61]\n",
    "fig = plt.figure(figsize=(8, 5))\n",
    "_ = plt.plot(loc, cv_acc, 'o-', loc, test_acc, '+-')\n",
    "_ = plt.xticks(loc, ['min_samples_split=2', 'min_samples_split=5', 'min_samples_split=10', 'min_samples_split=20', 'min_samples_split=50'])\n",
    "_ = plt.title('Cross Validation Accuracy (income data)')"
   ]
  },
  {
   "cell_type": "markdown",
   "metadata": {},
   "source": [
    "- Explore your data - provide simple statistics and/or analysis like the mean, variance, (possibly\n",
    "over different features), visualizations of how features vary over classes, etc. Do any of these\n",
    "properties help explain different algorithms’ performance? Compare statistics between your\n",
    "datasets - is one more balanced than another? Is this a good thing?"
   ]
  },
  {
   "cell_type": "code",
   "execution_count": 21,
   "metadata": {},
   "outputs": [
    {
     "data": {
      "text/html": [
       "<div>\n",
       "<style scoped>\n",
       "    .dataframe tbody tr th:only-of-type {\n",
       "        vertical-align: middle;\n",
       "    }\n",
       "\n",
       "    .dataframe tbody tr th {\n",
       "        vertical-align: top;\n",
       "    }\n",
       "\n",
       "    .dataframe thead th {\n",
       "        text-align: right;\n",
       "    }\n",
       "</style>\n",
       "<table border=\"1\" class=\"dataframe\">\n",
       "  <thead>\n",
       "    <tr style=\"text-align: right;\">\n",
       "      <th></th>\n",
       "      <th>age</th>\n",
       "      <th>balance</th>\n",
       "      <th>day</th>\n",
       "      <th>duration</th>\n",
       "      <th>campaign</th>\n",
       "      <th>pdays</th>\n",
       "      <th>previous</th>\n",
       "      <th>y</th>\n",
       "    </tr>\n",
       "  </thead>\n",
       "  <tbody>\n",
       "    <tr>\n",
       "      <th>count</th>\n",
       "      <td>45211.000000</td>\n",
       "      <td>45211.000000</td>\n",
       "      <td>45211.000000</td>\n",
       "      <td>45211.000000</td>\n",
       "      <td>45211.000000</td>\n",
       "      <td>45211.000000</td>\n",
       "      <td>45211.000000</td>\n",
       "      <td>45211.000000</td>\n",
       "    </tr>\n",
       "    <tr>\n",
       "      <th>mean</th>\n",
       "      <td>40.936210</td>\n",
       "      <td>1362.272058</td>\n",
       "      <td>15.806419</td>\n",
       "      <td>258.163080</td>\n",
       "      <td>2.763841</td>\n",
       "      <td>40.197828</td>\n",
       "      <td>0.580323</td>\n",
       "      <td>0.116985</td>\n",
       "    </tr>\n",
       "    <tr>\n",
       "      <th>std</th>\n",
       "      <td>10.618762</td>\n",
       "      <td>3044.765829</td>\n",
       "      <td>8.322476</td>\n",
       "      <td>257.527812</td>\n",
       "      <td>3.098021</td>\n",
       "      <td>100.128746</td>\n",
       "      <td>2.303441</td>\n",
       "      <td>0.321406</td>\n",
       "    </tr>\n",
       "    <tr>\n",
       "      <th>min</th>\n",
       "      <td>18.000000</td>\n",
       "      <td>-8019.000000</td>\n",
       "      <td>1.000000</td>\n",
       "      <td>0.000000</td>\n",
       "      <td>1.000000</td>\n",
       "      <td>-1.000000</td>\n",
       "      <td>0.000000</td>\n",
       "      <td>0.000000</td>\n",
       "    </tr>\n",
       "    <tr>\n",
       "      <th>25%</th>\n",
       "      <td>33.000000</td>\n",
       "      <td>72.000000</td>\n",
       "      <td>8.000000</td>\n",
       "      <td>103.000000</td>\n",
       "      <td>1.000000</td>\n",
       "      <td>-1.000000</td>\n",
       "      <td>0.000000</td>\n",
       "      <td>0.000000</td>\n",
       "    </tr>\n",
       "    <tr>\n",
       "      <th>50%</th>\n",
       "      <td>39.000000</td>\n",
       "      <td>448.000000</td>\n",
       "      <td>16.000000</td>\n",
       "      <td>180.000000</td>\n",
       "      <td>2.000000</td>\n",
       "      <td>-1.000000</td>\n",
       "      <td>0.000000</td>\n",
       "      <td>0.000000</td>\n",
       "    </tr>\n",
       "    <tr>\n",
       "      <th>75%</th>\n",
       "      <td>48.000000</td>\n",
       "      <td>1428.000000</td>\n",
       "      <td>21.000000</td>\n",
       "      <td>319.000000</td>\n",
       "      <td>3.000000</td>\n",
       "      <td>-1.000000</td>\n",
       "      <td>0.000000</td>\n",
       "      <td>0.000000</td>\n",
       "    </tr>\n",
       "    <tr>\n",
       "      <th>max</th>\n",
       "      <td>95.000000</td>\n",
       "      <td>102127.000000</td>\n",
       "      <td>31.000000</td>\n",
       "      <td>4918.000000</td>\n",
       "      <td>63.000000</td>\n",
       "      <td>871.000000</td>\n",
       "      <td>275.000000</td>\n",
       "      <td>1.000000</td>\n",
       "    </tr>\n",
       "  </tbody>\n",
       "</table>\n",
       "</div>"
      ],
      "text/plain": [
       "                age        balance           day      duration      campaign  \\\n",
       "count  45211.000000   45211.000000  45211.000000  45211.000000  45211.000000   \n",
       "mean      40.936210    1362.272058     15.806419    258.163080      2.763841   \n",
       "std       10.618762    3044.765829      8.322476    257.527812      3.098021   \n",
       "min       18.000000   -8019.000000      1.000000      0.000000      1.000000   \n",
       "25%       33.000000      72.000000      8.000000    103.000000      1.000000   \n",
       "50%       39.000000     448.000000     16.000000    180.000000      2.000000   \n",
       "75%       48.000000    1428.000000     21.000000    319.000000      3.000000   \n",
       "max       95.000000  102127.000000     31.000000   4918.000000     63.000000   \n",
       "\n",
       "              pdays      previous             y  \n",
       "count  45211.000000  45211.000000  45211.000000  \n",
       "mean      40.197828      0.580323      0.116985  \n",
       "std      100.128746      2.303441      0.321406  \n",
       "min       -1.000000      0.000000      0.000000  \n",
       "25%       -1.000000      0.000000      0.000000  \n",
       "50%       -1.000000      0.000000      0.000000  \n",
       "75%       -1.000000      0.000000      0.000000  \n",
       "max      871.000000    275.000000      1.000000  "
      ]
     },
     "execution_count": 21,
     "metadata": {},
     "output_type": "execute_result"
    }
   ],
   "source": [
    "# numerical statistics of bank data\n",
    "bank_data.describe()"
   ]
  },
  {
   "cell_type": "code",
   "execution_count": 27,
   "metadata": {},
   "outputs": [
    {
     "data": {
      "text/html": [
       "<div>\n",
       "<style scoped>\n",
       "    .dataframe tbody tr th:only-of-type {\n",
       "        vertical-align: middle;\n",
       "    }\n",
       "\n",
       "    .dataframe tbody tr th {\n",
       "        vertical-align: top;\n",
       "    }\n",
       "\n",
       "    .dataframe thead th {\n",
       "        text-align: right;\n",
       "    }\n",
       "</style>\n",
       "<table border=\"1\" class=\"dataframe\">\n",
       "  <thead>\n",
       "    <tr style=\"text-align: right;\">\n",
       "      <th></th>\n",
       "      <th>y</th>\n",
       "      <th>0</th>\n",
       "      <th>1</th>\n",
       "    </tr>\n",
       "  </thead>\n",
       "  <tbody>\n",
       "    <tr>\n",
       "      <th rowspan=\"8\" valign=\"top\">age</th>\n",
       "      <th>count</th>\n",
       "      <td>39922.000000</td>\n",
       "      <td>5289.000000</td>\n",
       "    </tr>\n",
       "    <tr>\n",
       "      <th>mean</th>\n",
       "      <td>40.838986</td>\n",
       "      <td>41.670070</td>\n",
       "    </tr>\n",
       "    <tr>\n",
       "      <th>std</th>\n",
       "      <td>10.172662</td>\n",
       "      <td>13.497781</td>\n",
       "    </tr>\n",
       "    <tr>\n",
       "      <th>min</th>\n",
       "      <td>18.000000</td>\n",
       "      <td>18.000000</td>\n",
       "    </tr>\n",
       "    <tr>\n",
       "      <th>25%</th>\n",
       "      <td>33.000000</td>\n",
       "      <td>31.000000</td>\n",
       "    </tr>\n",
       "    <tr>\n",
       "      <th>50%</th>\n",
       "      <td>39.000000</td>\n",
       "      <td>38.000000</td>\n",
       "    </tr>\n",
       "    <tr>\n",
       "      <th>75%</th>\n",
       "      <td>48.000000</td>\n",
       "      <td>50.000000</td>\n",
       "    </tr>\n",
       "    <tr>\n",
       "      <th>max</th>\n",
       "      <td>95.000000</td>\n",
       "      <td>95.000000</td>\n",
       "    </tr>\n",
       "    <tr>\n",
       "      <th rowspan=\"8\" valign=\"top\">balance</th>\n",
       "      <th>count</th>\n",
       "      <td>39922.000000</td>\n",
       "      <td>5289.000000</td>\n",
       "    </tr>\n",
       "    <tr>\n",
       "      <th>mean</th>\n",
       "      <td>1303.714969</td>\n",
       "      <td>1804.267915</td>\n",
       "    </tr>\n",
       "    <tr>\n",
       "      <th>std</th>\n",
       "      <td>2974.195473</td>\n",
       "      <td>3501.104777</td>\n",
       "    </tr>\n",
       "    <tr>\n",
       "      <th>min</th>\n",
       "      <td>-8019.000000</td>\n",
       "      <td>-3058.000000</td>\n",
       "    </tr>\n",
       "    <tr>\n",
       "      <th>25%</th>\n",
       "      <td>58.000000</td>\n",
       "      <td>210.000000</td>\n",
       "    </tr>\n",
       "    <tr>\n",
       "      <th>50%</th>\n",
       "      <td>417.000000</td>\n",
       "      <td>733.000000</td>\n",
       "    </tr>\n",
       "    <tr>\n",
       "      <th>75%</th>\n",
       "      <td>1345.000000</td>\n",
       "      <td>2159.000000</td>\n",
       "    </tr>\n",
       "    <tr>\n",
       "      <th>max</th>\n",
       "      <td>102127.000000</td>\n",
       "      <td>81204.000000</td>\n",
       "    </tr>\n",
       "    <tr>\n",
       "      <th rowspan=\"8\" valign=\"top\">day</th>\n",
       "      <th>count</th>\n",
       "      <td>39922.000000</td>\n",
       "      <td>5289.000000</td>\n",
       "    </tr>\n",
       "    <tr>\n",
       "      <th>mean</th>\n",
       "      <td>15.892290</td>\n",
       "      <td>15.158253</td>\n",
       "    </tr>\n",
       "    <tr>\n",
       "      <th>std</th>\n",
       "      <td>8.294728</td>\n",
       "      <td>8.501875</td>\n",
       "    </tr>\n",
       "    <tr>\n",
       "      <th>min</th>\n",
       "      <td>1.000000</td>\n",
       "      <td>1.000000</td>\n",
       "    </tr>\n",
       "    <tr>\n",
       "      <th>25%</th>\n",
       "      <td>8.000000</td>\n",
       "      <td>8.000000</td>\n",
       "    </tr>\n",
       "    <tr>\n",
       "      <th>50%</th>\n",
       "      <td>16.000000</td>\n",
       "      <td>15.000000</td>\n",
       "    </tr>\n",
       "    <tr>\n",
       "      <th>75%</th>\n",
       "      <td>21.000000</td>\n",
       "      <td>22.000000</td>\n",
       "    </tr>\n",
       "    <tr>\n",
       "      <th>max</th>\n",
       "      <td>31.000000</td>\n",
       "      <td>31.000000</td>\n",
       "    </tr>\n",
       "    <tr>\n",
       "      <th rowspan=\"8\" valign=\"top\">duration</th>\n",
       "      <th>count</th>\n",
       "      <td>39922.000000</td>\n",
       "      <td>5289.000000</td>\n",
       "    </tr>\n",
       "    <tr>\n",
       "      <th>mean</th>\n",
       "      <td>221.182806</td>\n",
       "      <td>537.294574</td>\n",
       "    </tr>\n",
       "    <tr>\n",
       "      <th>std</th>\n",
       "      <td>207.383237</td>\n",
       "      <td>392.525262</td>\n",
       "    </tr>\n",
       "    <tr>\n",
       "      <th>min</th>\n",
       "      <td>0.000000</td>\n",
       "      <td>8.000000</td>\n",
       "    </tr>\n",
       "    <tr>\n",
       "      <th>25%</th>\n",
       "      <td>95.000000</td>\n",
       "      <td>244.000000</td>\n",
       "    </tr>\n",
       "    <tr>\n",
       "      <th>50%</th>\n",
       "      <td>164.000000</td>\n",
       "      <td>426.000000</td>\n",
       "    </tr>\n",
       "    <tr>\n",
       "      <th>75%</th>\n",
       "      <td>279.000000</td>\n",
       "      <td>725.000000</td>\n",
       "    </tr>\n",
       "    <tr>\n",
       "      <th>max</th>\n",
       "      <td>4918.000000</td>\n",
       "      <td>3881.000000</td>\n",
       "    </tr>\n",
       "    <tr>\n",
       "      <th rowspan=\"8\" valign=\"top\">campaign</th>\n",
       "      <th>count</th>\n",
       "      <td>39922.000000</td>\n",
       "      <td>5289.000000</td>\n",
       "    </tr>\n",
       "    <tr>\n",
       "      <th>mean</th>\n",
       "      <td>2.846350</td>\n",
       "      <td>2.141047</td>\n",
       "    </tr>\n",
       "    <tr>\n",
       "      <th>std</th>\n",
       "      <td>3.212767</td>\n",
       "      <td>1.921826</td>\n",
       "    </tr>\n",
       "    <tr>\n",
       "      <th>min</th>\n",
       "      <td>1.000000</td>\n",
       "      <td>1.000000</td>\n",
       "    </tr>\n",
       "    <tr>\n",
       "      <th>25%</th>\n",
       "      <td>1.000000</td>\n",
       "      <td>1.000000</td>\n",
       "    </tr>\n",
       "    <tr>\n",
       "      <th>50%</th>\n",
       "      <td>2.000000</td>\n",
       "      <td>2.000000</td>\n",
       "    </tr>\n",
       "    <tr>\n",
       "      <th>75%</th>\n",
       "      <td>3.000000</td>\n",
       "      <td>3.000000</td>\n",
       "    </tr>\n",
       "    <tr>\n",
       "      <th>max</th>\n",
       "      <td>63.000000</td>\n",
       "      <td>32.000000</td>\n",
       "    </tr>\n",
       "    <tr>\n",
       "      <th rowspan=\"8\" valign=\"top\">pdays</th>\n",
       "      <th>count</th>\n",
       "      <td>39922.000000</td>\n",
       "      <td>5289.000000</td>\n",
       "    </tr>\n",
       "    <tr>\n",
       "      <th>mean</th>\n",
       "      <td>36.421372</td>\n",
       "      <td>68.702968</td>\n",
       "    </tr>\n",
       "    <tr>\n",
       "      <th>std</th>\n",
       "      <td>96.757135</td>\n",
       "      <td>118.822266</td>\n",
       "    </tr>\n",
       "    <tr>\n",
       "      <th>min</th>\n",
       "      <td>-1.000000</td>\n",
       "      <td>-1.000000</td>\n",
       "    </tr>\n",
       "    <tr>\n",
       "      <th>25%</th>\n",
       "      <td>-1.000000</td>\n",
       "      <td>-1.000000</td>\n",
       "    </tr>\n",
       "    <tr>\n",
       "      <th>50%</th>\n",
       "      <td>-1.000000</td>\n",
       "      <td>-1.000000</td>\n",
       "    </tr>\n",
       "    <tr>\n",
       "      <th>75%</th>\n",
       "      <td>-1.000000</td>\n",
       "      <td>98.000000</td>\n",
       "    </tr>\n",
       "    <tr>\n",
       "      <th>max</th>\n",
       "      <td>871.000000</td>\n",
       "      <td>854.000000</td>\n",
       "    </tr>\n",
       "    <tr>\n",
       "      <th rowspan=\"8\" valign=\"top\">previous</th>\n",
       "      <th>count</th>\n",
       "      <td>39922.000000</td>\n",
       "      <td>5289.000000</td>\n",
       "    </tr>\n",
       "    <tr>\n",
       "      <th>mean</th>\n",
       "      <td>0.502154</td>\n",
       "      <td>1.170354</td>\n",
       "    </tr>\n",
       "    <tr>\n",
       "      <th>std</th>\n",
       "      <td>2.256771</td>\n",
       "      <td>2.553272</td>\n",
       "    </tr>\n",
       "    <tr>\n",
       "      <th>min</th>\n",
       "      <td>0.000000</td>\n",
       "      <td>0.000000</td>\n",
       "    </tr>\n",
       "    <tr>\n",
       "      <th>25%</th>\n",
       "      <td>0.000000</td>\n",
       "      <td>0.000000</td>\n",
       "    </tr>\n",
       "    <tr>\n",
       "      <th>50%</th>\n",
       "      <td>0.000000</td>\n",
       "      <td>0.000000</td>\n",
       "    </tr>\n",
       "    <tr>\n",
       "      <th>75%</th>\n",
       "      <td>0.000000</td>\n",
       "      <td>1.000000</td>\n",
       "    </tr>\n",
       "    <tr>\n",
       "      <th>max</th>\n",
       "      <td>275.000000</td>\n",
       "      <td>58.000000</td>\n",
       "    </tr>\n",
       "  </tbody>\n",
       "</table>\n",
       "</div>"
      ],
      "text/plain": [
       "y                           0             1\n",
       "age      count   39922.000000   5289.000000\n",
       "         mean       40.838986     41.670070\n",
       "         std        10.172662     13.497781\n",
       "         min        18.000000     18.000000\n",
       "         25%        33.000000     31.000000\n",
       "         50%        39.000000     38.000000\n",
       "         75%        48.000000     50.000000\n",
       "         max        95.000000     95.000000\n",
       "balance  count   39922.000000   5289.000000\n",
       "         mean     1303.714969   1804.267915\n",
       "         std      2974.195473   3501.104777\n",
       "         min     -8019.000000  -3058.000000\n",
       "         25%        58.000000    210.000000\n",
       "         50%       417.000000    733.000000\n",
       "         75%      1345.000000   2159.000000\n",
       "         max    102127.000000  81204.000000\n",
       "day      count   39922.000000   5289.000000\n",
       "         mean       15.892290     15.158253\n",
       "         std         8.294728      8.501875\n",
       "         min         1.000000      1.000000\n",
       "         25%         8.000000      8.000000\n",
       "         50%        16.000000     15.000000\n",
       "         75%        21.000000     22.000000\n",
       "         max        31.000000     31.000000\n",
       "duration count   39922.000000   5289.000000\n",
       "         mean      221.182806    537.294574\n",
       "         std       207.383237    392.525262\n",
       "         min         0.000000      8.000000\n",
       "         25%        95.000000    244.000000\n",
       "         50%       164.000000    426.000000\n",
       "         75%       279.000000    725.000000\n",
       "         max      4918.000000   3881.000000\n",
       "campaign count   39922.000000   5289.000000\n",
       "         mean        2.846350      2.141047\n",
       "         std         3.212767      1.921826\n",
       "         min         1.000000      1.000000\n",
       "         25%         1.000000      1.000000\n",
       "         50%         2.000000      2.000000\n",
       "         75%         3.000000      3.000000\n",
       "         max        63.000000     32.000000\n",
       "pdays    count   39922.000000   5289.000000\n",
       "         mean       36.421372     68.702968\n",
       "         std        96.757135    118.822266\n",
       "         min        -1.000000     -1.000000\n",
       "         25%        -1.000000     -1.000000\n",
       "         50%        -1.000000     -1.000000\n",
       "         75%        -1.000000     98.000000\n",
       "         max       871.000000    854.000000\n",
       "previous count   39922.000000   5289.000000\n",
       "         mean        0.502154      1.170354\n",
       "         std         2.256771      2.553272\n",
       "         min         0.000000      0.000000\n",
       "         25%         0.000000      0.000000\n",
       "         50%         0.000000      0.000000\n",
       "         75%         0.000000      1.000000\n",
       "         max       275.000000     58.000000"
      ]
     },
     "execution_count": 27,
     "metadata": {},
     "output_type": "execute_result"
    }
   ],
   "source": [
    "# numerical statistics over different target classes\n",
    "bank_data.groupby(['y']).describe().T"
   ]
  },
  {
   "cell_type": "markdown",
   "metadata": {},
   "source": [
    "Based on these statistics, we can plot some features which we think are significantly different over different classes "
   ]
  },
  {
   "cell_type": "code",
   "execution_count": 49,
   "metadata": {},
   "outputs": [
    {
     "data": {
      "text/plain": [
       "<matplotlib.axes._subplots.AxesSubplot at 0x12bb60d68>"
      ]
     },
     "execution_count": 49,
     "metadata": {},
     "output_type": "execute_result"
    },
    {
     "data": {
      "image/png": "[encoded data removed]",
      "text/plain": [
       "<Figure size 864x360 with 1 Axes>"
      ]
     },
     "metadata": {
      "needs_background": "light"
     },
     "output_type": "display_data"
    }
   ],
   "source": [
    "plot_feature = 'duration'\n",
    "axes = bank_data.loc[bank_data['y'] == 1][plot_feature].plot(kind='hist',\n",
    "                                                             alpha=.5,\n",
    "                                                             density=True,\n",
    "                                                             bins=60,\n",
    "                                                             figsize=(12, 5),\n",
    "                                                             title=plot_feature)\n",
    "bank_data.loc[bank_data['y'] == 0][plot_feature].plot(ax=axes, kind='hist', alpha=.5, density=True, bins=60)"
   ]
  },
  {
   "cell_type": "code",
   "execution_count": 50,
   "metadata": {},
   "outputs": [
    {
     "data": {
      "text/plain": [
       "<matplotlib.axes._subplots.AxesSubplot at 0x12e025fd0>"
      ]
     },
     "execution_count": 50,
     "metadata": {},
     "output_type": "execute_result"
    },
    {
     "data": {
      "image/png": "[encoded data removed]",
      "text/plain": [
       "<Figure size 864x360 with 1 Axes>"
      ]
     },
     "metadata": {
      "needs_background": "light"
     },
     "output_type": "display_data"
    }
   ],
   "source": [
    "plot_feature = 'pdays'\n",
    "axes = bank_data.loc[bank_data['y'] == 1][plot_feature].plot(kind='hist',\n",
    "                                                             alpha=.5,\n",
    "                                                             density=True,\n",
    "                                                             bins=60,\n",
    "                                                             figsize=(12, 5),\n",
    "                                                             title=plot_feature)\n",
    "bank_data.loc[bank_data['y'] == 0][plot_feature].plot(ax=axes, kind='hist', alpha=.5, density=True, bins=60)"
   ]
  },
  {
   "cell_type": "code",
   "execution_count": 77,
   "metadata": {},
   "outputs": [
    {
     "data": {
      "text/plain": [
       "<matplotlib.axes._subplots.AxesSubplot at 0x131152e10>"
      ]
     },
     "execution_count": 77,
     "metadata": {},
     "output_type": "execute_result"
    },
    {
     "data": {
      "image/png": "[encoded data removed]",
      "text/plain": [
       "<Figure size 864x360 with 1 Axes>"
      ]
     },
     "metadata": {
      "needs_background": "light"
     },
     "output_type": "display_data"
    }
   ],
   "source": [
    "plot_feature = 'balance'\n",
    "axes = bank_data.loc[bank_data['y'] == 1][plot_feature].plot(kind='hist',\n",
    "                                                             alpha=.5,\n",
    "                                                             density=True,\n",
    "                                                             bins=60,\n",
    "                                                             figsize=(12, 5),\n",
    "                                                             title=plot_feature)\n",
    "bank_data.loc[bank_data['y'] == 0][plot_feature].plot(ax=axes, kind='hist', alpha=.5, density=True, bins=60)"
   ]
  },
  {
   "cell_type": "markdown",
   "metadata": {},
   "source": [
    "We can also plot some categorical features:"
   ]
  },
  {
   "cell_type": "code",
   "execution_count": 69,
   "metadata": {},
   "outputs": [
    {
     "data": {
      "text/plain": [
       "<matplotlib.axes._subplots.AxesSubplot at 0x12fcc0518>"
      ]
     },
     "execution_count": 69,
     "metadata": {},
     "output_type": "execute_result"
    },
    {
     "data": {
      "image/png": "[encoded data removed]",
      "text/plain": [
       "<Figure size 864x360 with 1 Axes>"
      ]
     },
     "metadata": {
      "needs_background": "light"
     },
     "output_type": "display_data"
    }
   ],
   "source": [
    "plot_feature = 'job'\n",
    "axes = bank_data.loc[bank_data['y'] == 1][plot_feature].value_counts().plot(kind='bar',\n",
    "                                                             alpha=.5,\n",
    "                                                             figsize=(12, 5),\n",
    "                                                             title=plot_feature)\n",
    "bank_data.loc[bank_data['y'] == 0][plot_feature].value_counts().plot(ax=axes, kind='bar', alpha=.5)"
   ]
  },
  {
   "cell_type": "code",
   "execution_count": 70,
   "metadata": {},
   "outputs": [
    {
     "data": {
      "text/plain": [
       "<matplotlib.axes._subplots.AxesSubplot at 0x12fce7e48>"
      ]
     },
     "execution_count": 70,
     "metadata": {},
     "output_type": "execute_result"
    },
    {
     "data": {
      "image/png": "[encoded data removed]",
      "text/plain": [
       "<Figure size 864x360 with 1 Axes>"
      ]
     },
     "metadata": {
      "needs_background": "light"
     },
     "output_type": "display_data"
    }
   ],
   "source": [
    "plot_feature = 'education'\n",
    "axes = bank_data.loc[bank_data['y'] == 1][plot_feature].value_counts().plot(kind='bar',\n",
    "                                                             alpha=.5,\n",
    "                                                             figsize=(12, 5),\n",
    "                                                             title=plot_feature)\n",
    "bank_data.loc[bank_data['y'] == 0][plot_feature].value_counts().plot(ax=axes, kind='bar', alpha=.5)"
   ]
  },
  {
   "cell_type": "code",
   "execution_count": 22,
   "metadata": {},
   "outputs": [
    {
     "data": {
      "text/html": [
       "<div>\n",
       "<style scoped>\n",
       "    .dataframe tbody tr th:only-of-type {\n",
       "        vertical-align: middle;\n",
       "    }\n",
       "\n",
       "    .dataframe tbody tr th {\n",
       "        vertical-align: top;\n",
       "    }\n",
       "\n",
       "    .dataframe thead th {\n",
       "        text-align: right;\n",
       "    }\n",
       "</style>\n",
       "<table border=\"1\" class=\"dataframe\">\n",
       "  <thead>\n",
       "    <tr style=\"text-align: right;\">\n",
       "      <th></th>\n",
       "      <th>age</th>\n",
       "      <th>fnlwgt</th>\n",
       "      <th>education-num</th>\n",
       "      <th>capital-gain</th>\n",
       "      <th>capital-loss</th>\n",
       "      <th>hours-per-week</th>\n",
       "      <th>income</th>\n",
       "    </tr>\n",
       "  </thead>\n",
       "  <tbody>\n",
       "    <tr>\n",
       "      <th>count</th>\n",
       "      <td>32561.000000</td>\n",
       "      <td>3.256100e+04</td>\n",
       "      <td>32561.000000</td>\n",
       "      <td>32561.000000</td>\n",
       "      <td>32561.000000</td>\n",
       "      <td>32561.000000</td>\n",
       "      <td>32561.000000</td>\n",
       "    </tr>\n",
       "    <tr>\n",
       "      <th>mean</th>\n",
       "      <td>38.581647</td>\n",
       "      <td>1.897784e+05</td>\n",
       "      <td>10.080679</td>\n",
       "      <td>1077.648844</td>\n",
       "      <td>87.303830</td>\n",
       "      <td>40.437456</td>\n",
       "      <td>0.240810</td>\n",
       "    </tr>\n",
       "    <tr>\n",
       "      <th>std</th>\n",
       "      <td>13.640433</td>\n",
       "      <td>1.055500e+05</td>\n",
       "      <td>2.572720</td>\n",
       "      <td>7385.292085</td>\n",
       "      <td>402.960219</td>\n",
       "      <td>12.347429</td>\n",
       "      <td>0.427581</td>\n",
       "    </tr>\n",
       "    <tr>\n",
       "      <th>min</th>\n",
       "      <td>17.000000</td>\n",
       "      <td>1.228500e+04</td>\n",
       "      <td>1.000000</td>\n",
       "      <td>0.000000</td>\n",
       "      <td>0.000000</td>\n",
       "      <td>1.000000</td>\n",
       "      <td>0.000000</td>\n",
       "    </tr>\n",
       "    <tr>\n",
       "      <th>25%</th>\n",
       "      <td>28.000000</td>\n",
       "      <td>1.178270e+05</td>\n",
       "      <td>9.000000</td>\n",
       "      <td>0.000000</td>\n",
       "      <td>0.000000</td>\n",
       "      <td>40.000000</td>\n",
       "      <td>0.000000</td>\n",
       "    </tr>\n",
       "    <tr>\n",
       "      <th>50%</th>\n",
       "      <td>37.000000</td>\n",
       "      <td>1.783560e+05</td>\n",
       "      <td>10.000000</td>\n",
       "      <td>0.000000</td>\n",
       "      <td>0.000000</td>\n",
       "      <td>40.000000</td>\n",
       "      <td>0.000000</td>\n",
       "    </tr>\n",
       "    <tr>\n",
       "      <th>75%</th>\n",
       "      <td>48.000000</td>\n",
       "      <td>2.370510e+05</td>\n",
       "      <td>12.000000</td>\n",
       "      <td>0.000000</td>\n",
       "      <td>0.000000</td>\n",
       "      <td>45.000000</td>\n",
       "      <td>0.000000</td>\n",
       "    </tr>\n",
       "    <tr>\n",
       "      <th>max</th>\n",
       "      <td>90.000000</td>\n",
       "      <td>1.484705e+06</td>\n",
       "      <td>16.000000</td>\n",
       "      <td>99999.000000</td>\n",
       "      <td>4356.000000</td>\n",
       "      <td>99.000000</td>\n",
       "      <td>1.000000</td>\n",
       "    </tr>\n",
       "  </tbody>\n",
       "</table>\n",
       "</div>"
      ],
      "text/plain": [
       "                age        fnlwgt  education-num  capital-gain  capital-loss  \\\n",
       "count  32561.000000  3.256100e+04   32561.000000  32561.000000  32561.000000   \n",
       "mean      38.581647  1.897784e+05      10.080679   1077.648844     87.303830   \n",
       "std       13.640433  1.055500e+05       2.572720   7385.292085    402.960219   \n",
       "min       17.000000  1.228500e+04       1.000000      0.000000      0.000000   \n",
       "25%       28.000000  1.178270e+05       9.000000      0.000000      0.000000   \n",
       "50%       37.000000  1.783560e+05      10.000000      0.000000      0.000000   \n",
       "75%       48.000000  2.370510e+05      12.000000      0.000000      0.000000   \n",
       "max       90.000000  1.484705e+06      16.000000  99999.000000   4356.000000   \n",
       "\n",
       "       hours-per-week        income  \n",
       "count    32561.000000  32561.000000  \n",
       "mean        40.437456      0.240810  \n",
       "std         12.347429      0.427581  \n",
       "min          1.000000      0.000000  \n",
       "25%         40.000000      0.000000  \n",
       "50%         40.000000      0.000000  \n",
       "75%         45.000000      0.000000  \n",
       "max         99.000000      1.000000  "
      ]
     },
     "execution_count": 22,
     "metadata": {},
     "output_type": "execute_result"
    }
   ],
   "source": [
    "# numerical statistics of income data\n",
    "income_data.describe()"
   ]
  },
  {
   "cell_type": "code",
   "execution_count": 28,
   "metadata": {},
   "outputs": [
    {
     "data": {
      "text/html": [
       "<div>\n",
       "<style scoped>\n",
       "    .dataframe tbody tr th:only-of-type {\n",
       "        vertical-align: middle;\n",
       "    }\n",
       "\n",
       "    .dataframe tbody tr th {\n",
       "        vertical-align: top;\n",
       "    }\n",
       "\n",
       "    .dataframe thead th {\n",
       "        text-align: right;\n",
       "    }\n",
       "</style>\n",
       "<table border=\"1\" class=\"dataframe\">\n",
       "  <thead>\n",
       "    <tr style=\"text-align: right;\">\n",
       "      <th></th>\n",
       "      <th>income</th>\n",
       "      <th>0</th>\n",
       "      <th>1</th>\n",
       "    </tr>\n",
       "  </thead>\n",
       "  <tbody>\n",
       "    <tr>\n",
       "      <th rowspan=\"8\" valign=\"top\">age</th>\n",
       "      <th>count</th>\n",
       "      <td>2.472000e+04</td>\n",
       "      <td>7.841000e+03</td>\n",
       "    </tr>\n",
       "    <tr>\n",
       "      <th>mean</th>\n",
       "      <td>3.678374e+01</td>\n",
       "      <td>4.424984e+01</td>\n",
       "    </tr>\n",
       "    <tr>\n",
       "      <th>std</th>\n",
       "      <td>1.402009e+01</td>\n",
       "      <td>1.051903e+01</td>\n",
       "    </tr>\n",
       "    <tr>\n",
       "      <th>min</th>\n",
       "      <td>1.700000e+01</td>\n",
       "      <td>1.900000e+01</td>\n",
       "    </tr>\n",
       "    <tr>\n",
       "      <th>25%</th>\n",
       "      <td>2.500000e+01</td>\n",
       "      <td>3.600000e+01</td>\n",
       "    </tr>\n",
       "    <tr>\n",
       "      <th>50%</th>\n",
       "      <td>3.400000e+01</td>\n",
       "      <td>4.400000e+01</td>\n",
       "    </tr>\n",
       "    <tr>\n",
       "      <th>75%</th>\n",
       "      <td>4.600000e+01</td>\n",
       "      <td>5.100000e+01</td>\n",
       "    </tr>\n",
       "    <tr>\n",
       "      <th>max</th>\n",
       "      <td>9.000000e+01</td>\n",
       "      <td>9.000000e+01</td>\n",
       "    </tr>\n",
       "    <tr>\n",
       "      <th rowspan=\"8\" valign=\"top\">fnlwgt</th>\n",
       "      <th>count</th>\n",
       "      <td>2.472000e+04</td>\n",
       "      <td>7.841000e+03</td>\n",
       "    </tr>\n",
       "    <tr>\n",
       "      <th>mean</th>\n",
       "      <td>1.903409e+05</td>\n",
       "      <td>1.880050e+05</td>\n",
       "    </tr>\n",
       "    <tr>\n",
       "      <th>std</th>\n",
       "      <td>1.064823e+05</td>\n",
       "      <td>1.025418e+05</td>\n",
       "    </tr>\n",
       "    <tr>\n",
       "      <th>min</th>\n",
       "      <td>1.228500e+04</td>\n",
       "      <td>1.487800e+04</td>\n",
       "    </tr>\n",
       "    <tr>\n",
       "      <th>25%</th>\n",
       "      <td>1.176060e+05</td>\n",
       "      <td>1.191010e+05</td>\n",
       "    </tr>\n",
       "    <tr>\n",
       "      <th>50%</th>\n",
       "      <td>1.794650e+05</td>\n",
       "      <td>1.761010e+05</td>\n",
       "    </tr>\n",
       "    <tr>\n",
       "      <th>75%</th>\n",
       "      <td>2.390230e+05</td>\n",
       "      <td>2.309590e+05</td>\n",
       "    </tr>\n",
       "    <tr>\n",
       "      <th>max</th>\n",
       "      <td>1.484705e+06</td>\n",
       "      <td>1.226583e+06</td>\n",
       "    </tr>\n",
       "    <tr>\n",
       "      <th rowspan=\"8\" valign=\"top\">education-num</th>\n",
       "      <th>count</th>\n",
       "      <td>2.472000e+04</td>\n",
       "      <td>7.841000e+03</td>\n",
       "    </tr>\n",
       "    <tr>\n",
       "      <th>mean</th>\n",
       "      <td>9.595065e+00</td>\n",
       "      <td>1.161166e+01</td>\n",
       "    </tr>\n",
       "    <tr>\n",
       "      <th>std</th>\n",
       "      <td>2.436147e+00</td>\n",
       "      <td>2.385129e+00</td>\n",
       "    </tr>\n",
       "    <tr>\n",
       "      <th>min</th>\n",
       "      <td>1.000000e+00</td>\n",
       "      <td>2.000000e+00</td>\n",
       "    </tr>\n",
       "    <tr>\n",
       "      <th>25%</th>\n",
       "      <td>9.000000e+00</td>\n",
       "      <td>1.000000e+01</td>\n",
       "    </tr>\n",
       "    <tr>\n",
       "      <th>50%</th>\n",
       "      <td>9.000000e+00</td>\n",
       "      <td>1.200000e+01</td>\n",
       "    </tr>\n",
       "    <tr>\n",
       "      <th>75%</th>\n",
       "      <td>1.000000e+01</td>\n",
       "      <td>1.300000e+01</td>\n",
       "    </tr>\n",
       "    <tr>\n",
       "      <th>max</th>\n",
       "      <td>1.600000e+01</td>\n",
       "      <td>1.600000e+01</td>\n",
       "    </tr>\n",
       "    <tr>\n",
       "      <th rowspan=\"8\" valign=\"top\">capital-gain</th>\n",
       "      <th>count</th>\n",
       "      <td>2.472000e+04</td>\n",
       "      <td>7.841000e+03</td>\n",
       "    </tr>\n",
       "    <tr>\n",
       "      <th>mean</th>\n",
       "      <td>1.487525e+02</td>\n",
       "      <td>4.006142e+03</td>\n",
       "    </tr>\n",
       "    <tr>\n",
       "      <th>std</th>\n",
       "      <td>9.631393e+02</td>\n",
       "      <td>1.457038e+04</td>\n",
       "    </tr>\n",
       "    <tr>\n",
       "      <th>min</th>\n",
       "      <td>0.000000e+00</td>\n",
       "      <td>0.000000e+00</td>\n",
       "    </tr>\n",
       "    <tr>\n",
       "      <th>25%</th>\n",
       "      <td>0.000000e+00</td>\n",
       "      <td>0.000000e+00</td>\n",
       "    </tr>\n",
       "    <tr>\n",
       "      <th>50%</th>\n",
       "      <td>0.000000e+00</td>\n",
       "      <td>0.000000e+00</td>\n",
       "    </tr>\n",
       "    <tr>\n",
       "      <th>75%</th>\n",
       "      <td>0.000000e+00</td>\n",
       "      <td>0.000000e+00</td>\n",
       "    </tr>\n",
       "    <tr>\n",
       "      <th>max</th>\n",
       "      <td>4.131000e+04</td>\n",
       "      <td>9.999900e+04</td>\n",
       "    </tr>\n",
       "    <tr>\n",
       "      <th rowspan=\"8\" valign=\"top\">capital-loss</th>\n",
       "      <th>count</th>\n",
       "      <td>2.472000e+04</td>\n",
       "      <td>7.841000e+03</td>\n",
       "    </tr>\n",
       "    <tr>\n",
       "      <th>mean</th>\n",
       "      <td>5.314292e+01</td>\n",
       "      <td>1.950015e+02</td>\n",
       "    </tr>\n",
       "    <tr>\n",
       "      <th>std</th>\n",
       "      <td>3.107558e+02</td>\n",
       "      <td>5.954876e+02</td>\n",
       "    </tr>\n",
       "    <tr>\n",
       "      <th>min</th>\n",
       "      <td>0.000000e+00</td>\n",
       "      <td>0.000000e+00</td>\n",
       "    </tr>\n",
       "    <tr>\n",
       "      <th>25%</th>\n",
       "      <td>0.000000e+00</td>\n",
       "      <td>0.000000e+00</td>\n",
       "    </tr>\n",
       "    <tr>\n",
       "      <th>50%</th>\n",
       "      <td>0.000000e+00</td>\n",
       "      <td>0.000000e+00</td>\n",
       "    </tr>\n",
       "    <tr>\n",
       "      <th>75%</th>\n",
       "      <td>0.000000e+00</td>\n",
       "      <td>0.000000e+00</td>\n",
       "    </tr>\n",
       "    <tr>\n",
       "      <th>max</th>\n",
       "      <td>4.356000e+03</td>\n",
       "      <td>3.683000e+03</td>\n",
       "    </tr>\n",
       "    <tr>\n",
       "      <th rowspan=\"8\" valign=\"top\">hours-per-week</th>\n",
       "      <th>count</th>\n",
       "      <td>2.472000e+04</td>\n",
       "      <td>7.841000e+03</td>\n",
       "    </tr>\n",
       "    <tr>\n",
       "      <th>mean</th>\n",
       "      <td>3.884021e+01</td>\n",
       "      <td>4.547303e+01</td>\n",
       "    </tr>\n",
       "    <tr>\n",
       "      <th>std</th>\n",
       "      <td>1.231899e+01</td>\n",
       "      <td>1.101297e+01</td>\n",
       "    </tr>\n",
       "    <tr>\n",
       "      <th>min</th>\n",
       "      <td>1.000000e+00</td>\n",
       "      <td>1.000000e+00</td>\n",
       "    </tr>\n",
       "    <tr>\n",
       "      <th>25%</th>\n",
       "      <td>3.500000e+01</td>\n",
       "      <td>4.000000e+01</td>\n",
       "    </tr>\n",
       "    <tr>\n",
       "      <th>50%</th>\n",
       "      <td>4.000000e+01</td>\n",
       "      <td>4.000000e+01</td>\n",
       "    </tr>\n",
       "    <tr>\n",
       "      <th>75%</th>\n",
       "      <td>4.000000e+01</td>\n",
       "      <td>5.000000e+01</td>\n",
       "    </tr>\n",
       "    <tr>\n",
       "      <th>max</th>\n",
       "      <td>9.900000e+01</td>\n",
       "      <td>9.900000e+01</td>\n",
       "    </tr>\n",
       "  </tbody>\n",
       "</table>\n",
       "</div>"
      ],
      "text/plain": [
       "income                           0             1\n",
       "age            count  2.472000e+04  7.841000e+03\n",
       "               mean   3.678374e+01  4.424984e+01\n",
       "               std    1.402009e+01  1.051903e+01\n",
       "               min    1.700000e+01  1.900000e+01\n",
       "               25%    2.500000e+01  3.600000e+01\n",
       "               50%    3.400000e+01  4.400000e+01\n",
       "               75%    4.600000e+01  5.100000e+01\n",
       "               max    9.000000e+01  9.000000e+01\n",
       "fnlwgt         count  2.472000e+04  7.841000e+03\n",
       "               mean   1.903409e+05  1.880050e+05\n",
       "               std    1.064823e+05  1.025418e+05\n",
       "               min    1.228500e+04  1.487800e+04\n",
       "               25%    1.176060e+05  1.191010e+05\n",
       "               50%    1.794650e+05  1.761010e+05\n",
       "               75%    2.390230e+05  2.309590e+05\n",
       "               max    1.484705e+06  1.226583e+06\n",
       "education-num  count  2.472000e+04  7.841000e+03\n",
       "               mean   9.595065e+00  1.161166e+01\n",
       "               std    2.436147e+00  2.385129e+00\n",
       "               min    1.000000e+00  2.000000e+00\n",
       "               25%    9.000000e+00  1.000000e+01\n",
       "               50%    9.000000e+00  1.200000e+01\n",
       "               75%    1.000000e+01  1.300000e+01\n",
       "               max    1.600000e+01  1.600000e+01\n",
       "capital-gain   count  2.472000e+04  7.841000e+03\n",
       "               mean   1.487525e+02  4.006142e+03\n",
       "               std    9.631393e+02  1.457038e+04\n",
       "               min    0.000000e+00  0.000000e+00\n",
       "               25%    0.000000e+00  0.000000e+00\n",
       "               50%    0.000000e+00  0.000000e+00\n",
       "               75%    0.000000e+00  0.000000e+00\n",
       "               max    4.131000e+04  9.999900e+04\n",
       "capital-loss   count  2.472000e+04  7.841000e+03\n",
       "               mean   5.314292e+01  1.950015e+02\n",
       "               std    3.107558e+02  5.954876e+02\n",
       "               min    0.000000e+00  0.000000e+00\n",
       "               25%    0.000000e+00  0.000000e+00\n",
       "               50%    0.000000e+00  0.000000e+00\n",
       "               75%    0.000000e+00  0.000000e+00\n",
       "               max    4.356000e+03  3.683000e+03\n",
       "hours-per-week count  2.472000e+04  7.841000e+03\n",
       "               mean   3.884021e+01  4.547303e+01\n",
       "               std    1.231899e+01  1.101297e+01\n",
       "               min    1.000000e+00  1.000000e+00\n",
       "               25%    3.500000e+01  4.000000e+01\n",
       "               50%    4.000000e+01  4.000000e+01\n",
       "               75%    4.000000e+01  5.000000e+01\n",
       "               max    9.900000e+01  9.900000e+01"
      ]
     },
     "execution_count": 28,
     "metadata": {},
     "output_type": "execute_result"
    }
   ],
   "source": [
    "# numerical statistics over different classes\n",
    "income_data.groupby(['income']).describe().T"
   ]
  },
  {
   "cell_type": "code",
   "execution_count": 52,
   "metadata": {},
   "outputs": [
    {
     "data": {
      "text/plain": [
       "<matplotlib.axes._subplots.AxesSubplot at 0x12ee47630>"
      ]
     },
     "execution_count": 52,
     "metadata": {},
     "output_type": "execute_result"
    },
    {
     "data": {
      "image/png": "[encoded data removed]",
      "text/plain": [
       "<Figure size 864x360 with 1 Axes>"
      ]
     },
     "metadata": {
      "needs_background": "light"
     },
     "output_type": "display_data"
    }
   ],
   "source": [
    "plot_feature = 'capital-gain'\n",
    "axes = income_data.loc[income_data['income'] == 1][plot_feature].plot(kind='hist',\n",
    "                                                             alpha=.5,\n",
    "                                                             density=True,\n",
    "                                                             bins=60,\n",
    "                                                             figsize=(12, 5),\n",
    "                                                             title=plot_feature)\n",
    "income_data.loc[income_data['income'] == 0][plot_feature].plot(ax=axes, kind='hist', alpha=.5, density=True, bins=60)"
   ]
  },
  {
   "cell_type": "code",
   "execution_count": 55,
   "metadata": {},
   "outputs": [
    {
     "data": {
      "text/plain": [
       "<matplotlib.axes._subplots.AxesSubplot at 0x12f052f28>"
      ]
     },
     "execution_count": 55,
     "metadata": {},
     "output_type": "execute_result"
    },
    {
     "data": {
      "image/png": "[encoded data removed]",
      "text/plain": [
       "<Figure size 864x360 with 1 Axes>"
      ]
     },
     "metadata": {
      "needs_background": "light"
     },
     "output_type": "display_data"
    }
   ],
   "source": [
    "plot_feature = 'hours-per-week'\n",
    "axes = income_data.loc[income_data['income'] == 1][plot_feature].plot(kind='hist',\n",
    "                                                             alpha=.5,\n",
    "                                                             density=True,\n",
    "                                                             bins=60,\n",
    "                                                             figsize=(12, 5),\n",
    "                                                             title=plot_feature)\n",
    "income_data.loc[income_data['income'] == 0][plot_feature].plot(ax=axes, kind='hist', alpha=.5, density=True, bins=60)"
   ]
  },
  {
   "cell_type": "code",
   "execution_count": 78,
   "metadata": {},
   "outputs": [
    {
     "data": {
      "text/plain": [
       "<matplotlib.axes._subplots.AxesSubplot at 0x133b0fef0>"
      ]
     },
     "execution_count": 78,
     "metadata": {},
     "output_type": "execute_result"
    },
    {
     "data": {
      "image/png": "[encoded data removed]",
      "text/plain": [
       "<Figure size 864x360 with 1 Axes>"
      ]
     },
     "metadata": {
      "needs_background": "light"
     },
     "output_type": "display_data"
    }
   ],
   "source": [
    "plot_feature = 'education-num'\n",
    "axes = income_data.loc[income_data['income'] == 1][plot_feature].plot(kind='hist',\n",
    "                                                             alpha=.5,\n",
    "                                                             density=True,\n",
    "                                                             bins=60,\n",
    "                                                             figsize=(12, 5),\n",
    "                                                             title=plot_feature)\n",
    "income_data.loc[income_data['income'] == 0][plot_feature].plot(ax=axes, kind='hist', alpha=.5, density=True, bins=60)"
   ]
  },
  {
   "cell_type": "code",
   "execution_count": 76,
   "metadata": {},
   "outputs": [
    {
     "data": {
      "text/plain": [
       "<matplotlib.axes._subplots.AxesSubplot at 0x1313d6208>"
      ]
     },
     "execution_count": 76,
     "metadata": {},
     "output_type": "execute_result"
    },
    {
     "data": {
      "image/png": "[encoded data removed]",
      "text/plain": [
       "<Figure size 864x360 with 1 Axes>"
      ]
     },
     "metadata": {
      "needs_background": "light"
     },
     "output_type": "display_data"
    }
   ],
   "source": [
    "plot_feature = 'workclass'\n",
    "axes = income_data.loc[income_data['income'] == 1][plot_feature].value_counts().plot(kind='bar',\n",
    "                                                             alpha=.5,\n",
    "                                                             figsize=(12, 5),\n",
    "                                                             title=plot_feature)\n",
    "income_data.loc[income_data['income'] == 0][plot_feature].value_counts().plot(ax=axes, kind='bar', alpha=.5)"
   ]
  },
  {
   "cell_type": "code",
   "execution_count": 75,
   "metadata": {},
   "outputs": [
    {
     "data": {
      "text/plain": [
       "<matplotlib.axes._subplots.AxesSubplot at 0x1313615f8>"
      ]
     },
     "execution_count": 75,
     "metadata": {},
     "output_type": "execute_result"
    },
    {
     "data": {
      "image/png": "[encoded data removed]",
      "text/plain": [
       "<Figure size 864x360 with 1 Axes>"
      ]
     },
     "metadata": {
      "needs_background": "light"
     },
     "output_type": "display_data"
    }
   ],
   "source": [
    "plot_feature = 'education'\n",
    "axes = income_data.loc[income_data['income'] == 1][plot_feature].value_counts().plot(kind='bar',\n",
    "                                                             alpha=.5,\n",
    "                                                             figsize=(12, 5),\n",
    "                                                             title=plot_feature)\n",
    "income_data.loc[income_data['income'] == 0][plot_feature].value_counts().plot(ax=axes, kind='bar', alpha=.5)"
   ]
  },
  {
   "cell_type": "markdown",
   "metadata": {},
   "source": [
    "Based on these statistical summary and plots, we can conclude that applying some simple transformation on features will be helpful, such as logarithm, this will help to distinguish different classes using these features."
   ]
  },
  {
   "cell_type": "markdown",
   "metadata": {},
   "source": [
    "- What properties lead to different algorithms’ performance? How robust is their performance;\n",
    "what would cause it to degrade?\n",
    "\n",
    "There are multiple things leaf to the differences among algorithms' performance: training data, hyperparameters, training strategies. We can see that random forest can provide the most robust performance among different hyperparameters, and multilayer perceptron has the least robust performance among different hyperparameters - it could perform better than random forest and it could also perform worse than SVM. The reason is already mentioned in one of the previous question - theoretically multilayer perceptron is more likely to overfit.\n",
    "\n",
    "- What have you learned about your data? What real-world problems could your insights be\n",
    "useful for? In what ways is your data representative of a real-world problem, and it what\n",
    "ways is it not?\n",
    "\n",
    "As we can see that random forest and multilayer perceptron can generally perform better than SVM, this means the data is not very well separated, the decision boundary between two classes could be very complex. This is very common in real-world problems, the data will be extremely imbalanced, the data are not very well separated, and there are no strong features are helpful to classify the target. These two datasets we have are very cleaned data, where in real-world we will usually have raw data with bad and missing values.\n",
    "\n",
    "- Do you have any recommendations for someone faced with this real-world problem? (Suggested algorithm/hyperparameters, data collection methods, etc.)\n",
    "\n",
    "For this real-world problem, we will recommend use random forest as the baseline algorithm, usually the default settings provided by `sklearn` is a good start. As we can see random forest can give better results than SVM and multilayer perceptron (in some cases), also random forest can be trained very fast on this size of the data. In addition, random forest can also output feature importance which will be helpful for feature engineering and model evaluation.\n",
    "\n",
    "- Provide qualitative analysis of performance - show examples that the algorithm fails on, and\n",
    "examples of successes. Are the ’hard’ and ’easy’ examples in the dataset the same for different\n",
    "algorithms?\n",
    "\n",
    "As we mentioned in one of the above questions, the performance of models can be determined by the data. Therefore if there is a dataset which the classes are linear separated, SVM with linear kernel function could achieve very good results, while random forest and multilayer perceptron could be overfit.\n",
    "\n",
    "- What are some other phenomena or interesting questions you would recommend for further\n",
    "work/experiments?\n",
    "\n",
    "There are several topics we'd like to continue if we have more time:\n",
    "\n",
    "```\n",
    "1. How much improvement can be achieved with some feature engineering?\n",
    "2. What are the feature importance? i.e. which feature sets contribute the most for classifying classes\n",
    "3. Try more different models / algorithms\n",
    "```"
   ]
  }
 ],
 "metadata": {
  "kernelspec": {
   "display_name": "Python 3",
   "language": "python",
   "name": "python3"
  },
  "language_info": {
   "codemirror_mode": {
    "name": "ipython",
    "version": 3
   },
   "file_extension": ".py",
   "mimetype": "text/x-python",
   "name": "python",
   "nbconvert_exporter": "python",
   "pygments_lexer": "ipython3",
   "version": "3.7.4"
  }
 },
 "nbformat": 4,
 "nbformat_minor": 2
}
